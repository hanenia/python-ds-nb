{
 "cells": [
  {
   "cell_type": "markdown",
   "id": "d5a06ef6",
   "metadata": {},
   "source": [
    "# QUESTION 10: Response\n",
    "\n",
    "# HANNA ANENIN\n"
   ]
  },
  {
   "cell_type": "code",
   "execution_count": 2,
   "id": "df1db926",
   "metadata": {},
   "outputs": [
    {
     "name": "stdout",
     "output_type": "stream",
     "text": [
      "*      *\n",
      "**    **\n",
      "***  ***\n",
      "********\n"
     ]
    }
   ],
   "source": [
    "# Define the height of the pattern\n",
    "height = 4\n",
    "\n",
    "# Loop through each row\n",
    "for row in range(1, height + 1):\n",
    "    # Print left half of the pattern\n",
    "    for col in range(row):\n",
    "        print('*', end='')\n",
    "    # Print spaces in the middle\n",
    "    for space in range(2 * (height - row)):\n",
    "        print(' ', end='')\n",
    "    # Print right half of the pattern\n",
    "    for col in range(row):\n",
    "        print('*', end='')\n",
    "    # Move to the next line after each row is printed\n",
    "    print()"
   ]
  }
 ],
 "metadata": {
  "kernelspec": {
   "display_name": "Python 3 (ipykernel)",
   "language": "python",
   "name": "python3"
  },
  "language_info": {
   "codemirror_mode": {
    "name": "ipython",
    "version": 3
   },
   "file_extension": ".py",
   "mimetype": "text/x-python",
   "name": "python",
   "nbconvert_exporter": "python",
   "pygments_lexer": "ipython3",
   "version": "3.10.9"
  }
 },
 "nbformat": 4,
 "nbformat_minor": 5
}
